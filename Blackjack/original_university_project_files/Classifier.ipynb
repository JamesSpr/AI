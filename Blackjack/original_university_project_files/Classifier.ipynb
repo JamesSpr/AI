{
 "cells": [
  {
   "cell_type": "code",
   "execution_count": 2,
   "metadata": {},
   "outputs": [
    {
     "name": "stdout",
     "output_type": "stream",
     "text": [
      "Found 102492 images belonging to 52 classes.\n",
      "Found 12792 images belonging to 52 classes.\n"
     ]
    }
   ],
   "source": [
    "# CNN for playing card classification\n",
    "\n",
    "# Tensorflow-GPU was causing errors. I found this to be a solution\n",
    "import tensorflow as tf\n",
    "config = tf.compat.v1.ConfigProto(gpu_options = \n",
    "                         tf.compat.v1.GPUOptions(per_process_gpu_memory_fraction=0.8)\n",
    "# device_count = {'GPU': 1}\n",
    ")\n",
    "config.gpu_options.allow_growth = True\n",
    "session = tf.compat.v1.Session(config=config)\n",
    "tf.compat.v1.keras.backend.set_session(session)\n",
    "\n",
    "# Imports\n",
    "from keras import layers\n",
    "from keras import models\n",
    "from keras import optimizers\n",
    "from keras.preprocessing.image import ImageDataGenerator\n",
    "import os\n",
    "\n",
    "# Define Directory Paths\n",
    "base_dir = 'Dataset'\n",
    "train_dir = os.path.join(base_dir, 'train')\n",
    "test_dir = os.path.join(base_dir, 'test')\n",
    "validation_dir = os.path.join(base_dir, 'val')\n",
    "\n",
    "# Define dataset for training\n",
    "train_datagen = ImageDataGenerator(rescale=1./255)\n",
    "test_datagen = ImageDataGenerator(rescale=1./255)\n",
    "train_generator = train_datagen.flow_from_directory(train_dir, target_size=(125, 100), batch_size=32, class_mode='categorical')\n",
    "validation_generator = train_datagen.flow_from_directory(validation_dir, target_size=(125, 100), batch_size=32, class_mode='categorical')\n",
    "\n",
    "# Creating Model\n",
    "#Layers\n",
    "model = models.Sequential()\n",
    "model.add(layers.Conv2D(64, (3,3), activation = 'relu', input_shape=(125, 100, 3)))\n",
    "model.add(layers.MaxPooling2D(2,2))\n",
    "model.add(layers.Conv2D(64, (3,3), activation = 'relu'))\n",
    "model.add(layers.MaxPooling2D(2,2))\n",
    "model.add(layers.Flatten())\n",
    "model.add(layers.Dropout(0.5))\n",
    "model.add(layers.Dense(512, activation='relu'))\n",
    "model.add(layers.Dense(52, activation='softmax'))\n",
    "\n",
    "#Freeze conv base and compile model\n",
    "model.compile(loss='categorical_crossentropy', optimizer = optimizers.RMSprop(learning_rate=0.001), metrics = ['accuracy'])\n",
    "# history = model.fit(train_generator, epochs=10, validation_data=validation_generator)"
   ]
  },
  {
   "cell_type": "code",
   "execution_count": 2,
   "metadata": {},
   "outputs": [
    {
     "name": "stdout",
     "output_type": "stream",
     "text": [
      "Found 12844 images belonging to 52 classes.\n",
      "25/25 [==============================] - 1s 29ms/step - loss: 0.0000e+00 - accuracy: 1.0000\n",
      "WARNING:tensorflow:From <ipython-input-2-89cdf47b28cd>:3: Sequential.predict_classes (from tensorflow.python.keras.engine.sequential) is deprecated and will be removed after 2021-01-01.\n",
      "Instructions for updating:\n",
      "Please use instead:* `np.argmax(model.predict(x), axis=-1)`,   if your model does multi-class classification   (e.g. if it uses a `softmax` last-layer activation).* `(model.predict(x) > 0.5).astype(\"int32\")`,   if your model does binary classification   (e.g. if it uses a `sigmoid` last-layer activation).\n",
      "test acc:  1.0\n"
     ]
    }
   ],
   "source": [
    "# Evaluate model on test data to get accuracy\n",
    "test_generator = test_datagen.flow_from_directory(test_dir, target_size=(125, 100), class_mode='categorical')\n",
    "test_loss, test_acc = model.evaluate(test_generator, steps=25)\n",
    "predictions = model.predict_classes(test_generator, batch_size=None)\n",
    "print('test acc: ', test_acc)"
   ]
  },
  {
   "cell_type": "code",
   "execution_count": 3,
   "metadata": {},
   "outputs": [],
   "source": [
    "# Save model\n",
    "from tensorflow.keras.models import Sequential, save_model, load_model\n",
    "model.save(\"Checkpoints/FinalModel.h5\")"
   ]
  },
  {
   "cell_type": "code",
   "execution_count": 19,
   "metadata": {},
   "outputs": [
    {
     "name": "stdout",
     "output_type": "stream",
     "text": [
      "Card is: 4D\n"
     ]
    }
   ],
   "source": [
    "# Test an image for classification\n",
    "import numpy as np\n",
    "from keras.preprocessing import image\n",
    "\n",
    "img_width, img_height = 125, 100\n",
    "img = image.load_img('Test1.jpg', target_size = (img_width, img_height))\n",
    "img = image.img_to_array(img)\n",
    "img = np.expand_dims(img, axis = 0)\n",
    "\n",
    "prediction = model.predict(img, batch_size=1)\n",
    "classes = prediction.argmax(axis=-1)\n",
    "\n",
    "label_map = (train_generator.class_indices)\n",
    "\n",
    "for key, value in label_map.items():\n",
    "    if classes == value:\n",
    "        print(\"Card is: \" + key)"
   ]
  },
  {
   "cell_type": "code",
   "execution_count": 3,
   "metadata": {},
   "outputs": [
    {
     "name": "stdout",
     "output_type": "stream",
     "text": [
      "Model: \"sequential\"\n",
      "_________________________________________________________________\n",
      "Layer (type)                 Output Shape              Param #   \n",
      "=================================================================\n",
      "conv2d (Conv2D)              (None, 123, 98, 64)       1792      \n",
      "_________________________________________________________________\n",
      "max_pooling2d (MaxPooling2D) (None, 61, 49, 64)        0         \n",
      "_________________________________________________________________\n",
      "conv2d_1 (Conv2D)            (None, 59, 47, 64)        36928     \n",
      "_________________________________________________________________\n",
      "max_pooling2d_1 (MaxPooling2 (None, 29, 23, 64)        0         \n",
      "_________________________________________________________________\n",
      "flatten (Flatten)            (None, 42688)             0         \n",
      "_________________________________________________________________\n",
      "dropout (Dropout)            (None, 42688)             0         \n",
      "_________________________________________________________________\n",
      "dense (Dense)                (None, 512)               21856768  \n",
      "_________________________________________________________________\n",
      "dense_1 (Dense)              (None, 52)                26676     \n",
      "=================================================================\n",
      "Total params: 21,922,164\n",
      "Trainable params: 21,922,164\n",
      "Non-trainable params: 0\n",
      "_________________________________________________________________\n"
     ]
    }
   ],
   "source": [
    "model.summary()"
   ]
  },
  {
   "cell_type": "code",
   "execution_count": null,
   "metadata": {},
   "outputs": [],
   "source": []
  }
 ],
 "metadata": {
  "kernelspec": {
   "display_name": "Python 3 (ipykernel)",
   "language": "python",
   "name": "python3"
  },
  "language_info": {
   "codemirror_mode": {
    "name": "ipython",
    "version": 3
   },
   "file_extension": ".py",
   "mimetype": "text/x-python",
   "name": "python",
   "nbconvert_exporter": "python",
   "pygments_lexer": "ipython3",
   "version": "3.8.13"
  }
 },
 "nbformat": 4,
 "nbformat_minor": 4
}
